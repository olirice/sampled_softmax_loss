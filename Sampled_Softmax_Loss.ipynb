{
 "cells": [
  {
   "cell_type": "code",
   "execution_count": 1,
   "metadata": {},
   "outputs": [
    {
     "name": "stdout",
     "output_type": "stream",
     "text": [
      "Extracting MNIST_data/train-images-idx3-ubyte.gz\n",
      "Extracting MNIST_data/train-labels-idx1-ubyte.gz\n",
      "Extracting MNIST_data/t10k-images-idx3-ubyte.gz\n",
      "Extracting MNIST_data/t10k-labels-idx1-ubyte.gz\n"
     ]
    }
   ],
   "source": [
    "# Import MINST data\n",
    "import numpy as np\n",
    "from tensorflow.examples.tutorials.mnist import input_data\n",
    "mnist = input_data.read_data_sets(\"MNIST_data/\", one_hot=True)\n",
    "\n",
    "# Parameters\n",
    "learning_rate = 0.001\n",
    "training_epochs = 6\n",
    "batch_size = 100\n",
    "display_step = 1\n",
    "\n"
   ]
  },
  {
   "cell_type": "code",
   "execution_count": 2,
   "metadata": {
    "scrolled": true
   },
   "outputs": [],
   "source": [
    "import tensorflow as tf\n",
    "\n",
    "# Network Parameters\n",
    "n_hidden_1 = 256  # 1st layer number of features\n",
    "n_input = 784     # MNIST data input (img shape: 28*28)\n",
    "n_classes = 10    # MNIST total classes (0-9 digits)    \n",
    "\n",
    "# Dependent & Independent Variable Placeholders\n",
    "x = tf.placeholder(\"float\", [None, n_input])\n",
    "y = tf.placeholder(\"float\", [None, n_classes])\n",
    "\n",
    "# Weights and Biases\n",
    "weights = {\n",
    "    'h1': tf.Variable(tf.random_normal([n_input, n_hidden_1])),\n",
    "    'out': tf.Variable(tf.random_normal([n_hidden_1, n_classes]))\n",
    "}\n",
    "biases = {\n",
    "    'b1': tf.Variable(tf.random_normal([n_hidden_1])),\n",
    "    'out': tf.Variable(tf.random_normal([n_classes]))\n",
    "}\n",
    "\n",
    "# Super simple model builder\n",
    "def tiny_perceptron(x, weights, biases):\n",
    "    layer_1 = tf.add(tf.matmul(x, weights['h1']), biases['b1'])\n",
    "    layer_1 = tf.nn.relu(layer_1)\n",
    "    out_layer = tf.matmul(layer_1, weights['out']) + biases['out']\n",
    "    return out_layer   \n",
    "\n",
    "# Create the model\n",
    "pred = tiny_perceptron(x, weights, biases)    \n"
   ]
  },
  {
   "cell_type": "code",
   "execution_count": 4,
   "metadata": {},
   "outputs": [],
   "source": [
    "# Training cycle\n",
    "mode = \"train\"\n",
    "\n",
    "def get_loss_func(mode):\n",
    "    \n",
    "    # Set up loss function inputs and inspect their shapes\n",
    "    \n",
    "    w = tf.transpose(weights['out'])\n",
    "    b = biases['out']\n",
    "    inputs = pred\n",
    "    num_sampled = 3\n",
    "    num_true = 1\n",
    "    num_classes = n_classes\n",
    "    \n",
    "    #\n",
    "    if mode == \"train\":\n",
    "        # Convert one-hot to index\n",
    "        labels = tf.reshape(tf.argmax(y, 1), [-1,1])\n",
    "        \n",
    "        loss = tf.nn.sampled_softmax_loss(\n",
    "                         weights=weights['out'],\n",
    "                         biases=b,\n",
    "                         labels=labels,\n",
    "                         inputs=inputs,\n",
    "                         num_sampled=num_sampled,\n",
    "                         num_true=num_true,\n",
    "                         num_classes=num_classes,\n",
    "                         partition_strategy=\"div\")\n",
    "\n",
    "    # Evaluation Mode\n",
    "    elif mode == \"eval\":\n",
    "        labels_one_hot = y\n",
    "        \n",
    "        logits = tf.matmul(inputs, tf.transpose(weights['out']), name='Eval_Logits') # ERROR HERE!!!!\n",
    "        logits = tf.nn.bias_add(logits, biases['out'])\n",
    "        loss = tf.nn.softmax_cross_entropy_with_logits(\n",
    "            labels=labels_one_hot,\n",
    "            logits=logits)\n",
    "    \n",
    "    return loss\n",
    "\n",
    "# Training Loss\n",
    "loss = get_loss_func(mode)\n",
    "\n",
    "# Optimizer\n",
    "optimizer = tf.train.AdamOptimizer(learning_rate=learning_rate).minimize(loss)\n",
    "\n",
    "# Initializing the variables\n",
    "init = tf.global_variables_initializer()\n",
    "# Launch the graph\n",
    "sess = tf.InteractiveSession()\n",
    "sess.run(init)"
   ]
  },
  {
   "cell_type": "code",
   "execution_count": 5,
   "metadata": {},
   "outputs": [
    {
     "name": "stdout",
     "output_type": "stream",
     "text": [
      "Epoch: 0001 cost= 56.023456573\n",
      "Epoch: 0002 cost= 11.958270073\n",
      "Epoch: 0003 cost= 7.451391697\n",
      "Epoch: 0004 cost= 5.367152691\n",
      "Epoch: 0005 cost= 4.220751762\n",
      "Epoch: 0006 cost= 3.442977190\n",
      "Optimization Finished!\n"
     ]
    }
   ],
   "source": [
    "for epoch in range(training_epochs):\n",
    "    avg_cost = 0.\n",
    "    total_batch = int(mnist.train.num_examples/batch_size)\n",
    "    # Loop over all batches\n",
    "    for i in range(total_batch):\n",
    "        batch_x, batch_y = mnist.train.next_batch(batch_size)\n",
    "        \n",
    "        # Run optimization op (backprop) and cost op (to get loss value)\n",
    "        _, c = sess.run([optimizer, loss], feed_dict={x: batch_x,\n",
    "                                                      y: batch_y})\n",
    "        \n",
    "        # Compute average loss\n",
    "        avg_cost += c / total_batch\n",
    "    # Display logs per epoch step\n",
    "    if epoch % display_step == 0:\n",
    "        print(\"Epoch:\", '%04d' % (epoch+1), \"cost=\", \"{:.9f}\".format(np.mean(avg_cost)))\n",
    "print(\"Optimization Finished!\")\n",
    "\n",
    "# Test model\n",
    "#correct_prediction = tf.equal(tf.argmax(pred, 1), tf.argmax(y, 1))\n",
    "#correct_prediction = tf.equal(tf.nn.softmax(tf.matmul(pred, weights['out']) + biases['out']), tf.argmax(y,1))\n",
    "# Calculate accuracy\n",
    "#accuracy = tf.reduce_mean(tf.cast(correct_prediction, \"float\"))\n",
    "\n",
    "#print(\"Accuracy:\", accuracy.eval({x: mnist.test.images, y: mnist.test.labels}))"
   ]
  },
  {
   "cell_type": "code",
   "execution_count": null,
   "metadata": {
    "collapsed": true
   },
   "outputs": [],
   "source": []
  }
 ],
 "metadata": {
  "kernelspec": {
   "display_name": "Python 3",
   "language": "python",
   "name": "python3"
  },
  "language_info": {
   "codemirror_mode": {
    "name": "ipython",
    "version": 3
   },
   "file_extension": ".py",
   "mimetype": "text/x-python",
   "name": "python",
   "nbconvert_exporter": "python",
   "pygments_lexer": "ipython3",
   "version": "3.5.2"
  }
 },
 "nbformat": 4,
 "nbformat_minor": 2
}
